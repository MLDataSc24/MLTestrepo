{
 "cells": [
  {
   "cell_type": "markdown",
   "id": "8156939c-1702-4d2b-80ef-2d24634112a9",
   "metadata": {},
   "source": [
    "# Data Science Tools and Ecosystem"
   ]
  },
  {
   "cell_type": "markdown",
   "id": "2a2795d0-19f4-4d21-b976-33d07f84674b",
   "metadata": {},
   "source": [
    "In this notebook, Data Science Tools and Ecosystem are summarized."
   ]
  },
  {
   "cell_type": "markdown",
   "id": "bab676cd-dda5-41e2-99d5-a0ccfa69719f",
   "metadata": {},
   "source": [
    "**Objectives:**\n",
    "* List popular languages for Data Science\n",
    "* List commonly used libraries used by Data Scientists\n",
    "* List Data Science Tools"
   ]
  },
  {
   "cell_type": "markdown",
   "id": "58d85abd-d6c3-4dce-b6d0-1cd240721d2e",
   "metadata": {},
   "source": [
    "Some of the popular languages that Data Scientists use are:\n",
    "* R\n",
    "* Python\n",
    "* Scala"
   ]
  },
  {
   "cell_type": "markdown",
   "id": "f05c0a7b-098d-420c-82c8-99df7e7d4965",
   "metadata": {},
   "source": [
    "1. ggplot\n",
    "2. SciPy\n",
    "3. NumPy"
   ]
  },
  {
   "cell_type": "markdown",
   "id": "1b2da5c9-fa28-4590-be03-fc75754669ce",
   "metadata": {},
   "source": [
    "| Data Science Tools |\n",
    "| ------------------ |\n",
    "| Jupyter Notebooks  |\n",
    "| Jupyter Lab        |\n",
    "| Apache Zepplin     |"
   ]
  },
  {
   "cell_type": "markdown",
   "id": "eb5bfd98-8f37-49b8-933a-d10e1970c4e3",
   "metadata": {},
   "source": [
    "### Below are a few examples of evaluating arithmetic expressions in Python"
   ]
  },
  {
   "cell_type": "code",
   "execution_count": 1,
   "id": "1c88650e-a06c-4eda-8056-9748cffe547a",
   "metadata": {},
   "outputs": [
    {
     "data": {
      "text/plain": [
       "17"
      ]
     },
     "execution_count": 1,
     "metadata": {},
     "output_type": "execute_result"
    }
   ],
   "source": [
    "#This a simple arithmetic expression to mutiply then add integers\n",
    "(3*4)+5"
   ]
  },
  {
   "cell_type": "code",
   "execution_count": 2,
   "id": "a1a96691-1db3-4b84-aea4-06c2b922c9ca",
   "metadata": {},
   "outputs": [
    {
     "data": {
      "text/plain": [
       "3.3333333333333335"
      ]
     },
     "execution_count": 2,
     "metadata": {},
     "output_type": "execute_result"
    }
   ],
   "source": [
    "#This will convert 200 minutes to hours by diving by 60\n",
    "200/60"
   ]
  },
  {
   "cell_type": "markdown",
   "id": "e5088bf9-6147-4aaa-87ca-67a3c97029a2",
   "metadata": {},
   "source": [
    "## Author\n",
    "Shubhi Khare"
   ]
  },
  {
   "cell_type": "code",
   "execution_count": null,
   "id": "22031691-e58a-46cb-8a7b-2c6293e15d43",
   "metadata": {},
   "outputs": [],
   "source": []
  }
 ],
 "metadata": {
  "kernelspec": {
   "display_name": "Python 3 (ipykernel)",
   "language": "python",
   "name": "python3"
  },
  "language_info": {
   "codemirror_mode": {
    "name": "ipython",
    "version": 3
   },
   "file_extension": ".py",
   "mimetype": "text/x-python",
   "name": "python",
   "nbconvert_exporter": "python",
   "pygments_lexer": "ipython3",
   "version": "3.11.9"
  }
 },
 "nbformat": 4,
 "nbformat_minor": 5
}
